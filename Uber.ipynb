{
 "cells": [
  {
   "cell_type": "code",
   "execution_count": null,
   "id": "d7707c1d-797c-49c2-b8e1-ace69edfc42f",
   "metadata": {},
   "outputs": [],
   "source": [
    "import pandas as pd\n",
    "import numpy as np\n",
    "import matplotlib.pyplot as plt\n",
    "import seaborn as sns\n",
    "from sklearn.model_selection import train_test_split\n",
    "from sklearn.linear_model import LinearRegression\n",
    "from sklearn.ensemble import RandomForestRegressor\n",
    "from sklearn.metrics import r2_score, mean_squared_error\n"
   ]
  },
  {
   "cell_type": "code",
   "execution_count": null,
   "id": "42fb3392-db88-438f-abf2-d807fef55b3a",
   "metadata": {},
   "outputs": [],
   "source": [
    "data = pd.read_csv(\"Uber.csv\")"
   ]
  },
  {
   "cell_type": "code",
   "execution_count": null,
   "id": "2d8ac66f-18ea-4c12-9e13-0c63fd7ac95c",
   "metadata": {},
   "outputs": [],
   "source": [
    "data"
   ]
  },
  {
   "cell_type": "code",
   "execution_count": null,
   "id": "f8ecd48a-affd-4ca3-9012-4b36c33f34be",
   "metadata": {},
   "outputs": [],
   "source": [
    "# 1. Pre-process the dataset\n",
    "# Remove unnecessary column\n",
    "data[\"pickup_datetime\"] = pd.to_datetime(data[\"pickup_datetime\"])\n",
    "missing_values = data.isnull().sum()\n",
    "print(\"Missing values in the dataset:\")\n",
    "print(missing_values)\n",
    "# Handle missing values\n",
    "# We can choose to drop rows with missing values or fill them with appropriate values.\n",
    "data.dropna(inplace=True)\n",
    "# To fill missing values with the mean value of the column:\n",
    "# data.fillna(data.mean(), inplace=True)\n",
    "# Ensure there are no more missing values\n",
    "missing_values = data.isnull().sum()\n",
    "print(\"Missing values after handling:\")\n",
    "print(missing_values)\n"
   ]
  },
  {
   "cell_type": "code",
   "execution_count": null,
   "id": "caac1b1f-018f-4c08-a0e0-443d6b82e0b6",
   "metadata": {},
   "outputs": [],
   "source": [
    "# 2. Identify outliers\n",
    "# visualization to detect outliers.\n",
    "sns.boxplot(x=data[\"fare_amount\"])\n",
    "plt.show()"
   ]
  },
  {
   "cell_type": "code",
   "execution_count": null,
   "id": "70b9a227-45aa-4001-b732-95b093d1f662",
   "metadata": {},
   "outputs": [],
   "source": [
    "# Calculate the IQR for the 'fare_amount' column\n",
    "Q1 = data[\"fare_amount\"].quantile(0.25)\n",
    "Q3 = data[\"fare_amount\"].quantile(0.75)\n",
    "IQR = Q3 - Q1\n",
    "# Define a threshold (e.g., 1.5 times the IQR) to identify outliers\n",
    "threshold = 1.5\n",
    "lower_bound = Q1 - threshold * IQR\n",
    "upper_bound = Q3 + threshold * IQR"
   ]
  },
  {
   "cell_type": "code",
   "execution_count": null,
   "id": "7fb6e0a8-8c58-448b-8c4a-fed6347ce095",
   "metadata": {},
   "outputs": [],
   "source": [
    "# Remove outliers\n",
    "data_no_outliers = data[(data[\"fare_amount\"] >= lower_bound) & (data[\"fare_amount\"] <= upper_bound)]\n",
    "# Visualize the 'fare_amount' distribution without outliers\n",
    "sns.boxplot(x=data_no_outliers[\"fare_amount\"])\n",
    "plt.show()"
   ]
  },
  {
   "cell_type": "code",
   "execution_count": null,
   "id": "534c282e-a08c-4281-819b-7d4ff8771c7d",
   "metadata": {},
   "outputs": [],
   "source": [
    "data.plot(kind=\"box\",subplots=True, layout=(7, 2), figsize=(15, 20))"
   ]
  },
  {
   "cell_type": "code",
   "execution_count": null,
   "id": "122dc1f1-931f-423c-97de-6c08ae6f21df",
   "metadata": {},
   "outputs": [],
   "source": [
    "# Filter only numerical columns for correlation calculation\n",
    "numeric_data = data.select_dtypes(include=[np.number])\n",
    "\n",
    "# Calculate the correlation matrix using only numerical columns\n",
    "correlation_matrix = numeric_data.corr()\n",
    "\n",
    "# Visualize the correlation matrix\n",
    "sns.heatmap(correlation_matrix, annot=True, cmap=\"coolwarm\")\n",
    "plt.title(\"Correlation Matrix\")\n",
    "plt.show()"
   ]
  },
  {
   "cell_type": "code",
   "execution_count": null,
   "id": "9e07c034-0785-4a05-b6e0-742518ab8e68",
   "metadata": {},
   "outputs": [],
   "source": [
    "# 4. Implement linear regression and random forest regression models\n",
    "# Split the data into features and target variable\n",
    "X = data[['pickup_longitude', 'pickup_latitude', 'dropoff_longitude', 'dropoff_latitude', 'passenger_count']]\n",
    "y = data['fare_amount'] #Target\n",
    "y"
   ]
  },
  {
   "cell_type": "code",
   "execution_count": null,
   "id": "dac8dc32-08f1-4dc7-a0c2-13ab084713c1",
   "metadata": {},
   "outputs": [],
   "source": [
    "# Split the data into training and testing sets\n",
    "X_train, X_test, y_train, y_test = train_test_split(X, y, test_size=0.2, random_state=42)"
   ]
  },
  {
   "cell_type": "code",
   "execution_count": null,
   "id": "fbd0de0a-a21a-4083-ac29-ed55fa7e4828",
   "metadata": {},
   "outputs": [],
   "source": [
    "# Create and train the linear regression model\n",
    "lr_model = LinearRegression()\n",
    "lr_model.fit(X_train, y_train)"
   ]
  },
  {
   "cell_type": "code",
   "execution_count": null,
   "id": "62c2428c-9828-474a-b39a-f5050e85d731",
   "metadata": {},
   "outputs": [],
   "source": [
    "# Create and train the random forest regression model\n",
    "rf_model = RandomForestRegressor(n_estimators=100, random_state=42)\n",
    "rf_model.fit(X_train, y_train)"
   ]
  },
  {
   "cell_type": "code",
   "execution_count": null,
   "id": "7cad562a-b7f7-4034-adb0-14afe82791f7",
   "metadata": {},
   "outputs": [],
   "source": [
    "# 5. Evaluate the models\n",
    "# Predict the values\n",
    "y_pred_lr = lr_model.predict(X_test)\n",
    "y_pred_lr\n",
    "print(\"Linear Model:\",y_pred_lr)\n",
    "y_pred_rf = rf_model.predict(X_test)\n",
    "print(\"Random Forest Model:\", y_pred_rf)\n"
   ]
  },
  {
   "cell_type": "code",
   "execution_count": null,
   "id": "096cd007-6a80-40a6-a778-a2ea429b3a4c",
   "metadata": {},
   "outputs": [],
   "source": [
    "# Calculate R-squared (R2) and Root Mean Squared Error (RMSE) for both models\n",
    "r2_lr = r2_score(y_test, y_pred_lr)\n",
    "rmse_lr = np.sqrt(mean_squared_error(y_test, y_pred_lr))"
   ]
  },
  {
   "cell_type": "code",
   "execution_count": null,
   "id": "d74d97a9-de5a-484b-a49e-e06d0ec8d87f",
   "metadata": {},
   "outputs": [],
   "source": [
    "# Compare the scores\n",
    "print(\"Linear Regression - R2:\", r2_lr)\n",
    "print(\"Linear Regression - RMSE:\", rmse_lr)"
   ]
  },
  {
   "cell_type": "code",
   "execution_count": null,
   "id": "a259367c-c3d1-4ff9-8873-315ee77ba308",
   "metadata": {},
   "outputs": [],
   "source": [
    "r2_rf = r2_score(y_test, y_pred_rf)\n",
    "rmse_rf = np.sqrt(mean_squared_error(y_test, y_pred_rf))\n",
    "print(\"Random Forest Regression R2:\", r2_rf)\n",
    "print(\"Random Forest Regression RMSE:\",rmse_rf)\n"
   ]
  }
 ],
 "metadata": {
  "kernelspec": {
   "display_name": "Python 3 (ipykernel)",
   "language": "python",
   "name": "python3"
  },
  "language_info": {
   "codemirror_mode": {
    "name": "ipython",
    "version": 3
   },
   "file_extension": ".py",
   "mimetype": "text/x-python",
   "name": "python",
   "nbconvert_exporter": "python",
   "pygments_lexer": "ipython3",
   "version": "3.12.4"
  }
 },
 "nbformat": 4,
 "nbformat_minor": 5
}
